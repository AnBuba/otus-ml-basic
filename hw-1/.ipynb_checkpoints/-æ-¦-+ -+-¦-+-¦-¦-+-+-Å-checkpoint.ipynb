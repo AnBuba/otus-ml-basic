{
 "cells": [
  {
   "cell_type": "code",
   "execution_count": 1,
   "id": "ac510c43",
   "metadata": {},
   "outputs": [],
   "source": [
    "def share_bread(N, K):\n",
    "    x = K // N\n",
    "    y = K % N\n",
    "    return x, y\n",
    "\n",
    "# если в функции всё верно, то после выполнения этой строчки, не должно выскакивать ошибок\n",
    "assert share_bread(N=3, K=14) == (4, 2)"
   ]
  },
  {
   "cell_type": "code",
   "execution_count": 2,
   "id": "607afaca",
   "metadata": {},
   "outputs": [],
   "source": [
    "def leap_year(year):\n",
    "    if year % 4 == 0 and year % 100 != 0 or year % 400 == 0:\n",
    "        text_result = \"YOU SHALL PASS\"\n",
    "    else:\n",
    "        text_result = \"YOU SHALL NOT PASS\"\n",
    "    return text_result\n",
    "\n",
    "assert leap_year(5) == 'YOU SHALL NOT PASS'"
   ]
  },
  {
   "cell_type": "code",
   "execution_count": 3,
   "id": "8f3366ff",
   "metadata": {},
   "outputs": [],
   "source": [
    "def amulet_area(a, b, c):\n",
    "    p = (a + b + c) / 2\n",
    "    S = (p * (p - a) * (p - b) * (p - c))**(1 / 2)\n",
    "    return S\n",
    "\n",
    "assert amulet_area(3, 4, 5) == 6"
   ]
  },
  {
   "cell_type": "code",
   "execution_count": 4,
   "id": "93ffeb40",
   "metadata": {},
   "outputs": [
    {
     "name": "stdout",
     "output_type": "stream",
     "text": [
      "a = [ 9  7  2 -5 -8 -1 -7 -3 -5 -8]\n",
      "b = [-6 -8  4 -9 -6 -7 -7 -8  8 -2]\n",
      "27.202941017470888\n",
      "68\n",
      "0.8865980800024824\n"
     ]
    }
   ],
   "source": [
    "import numpy as np\n",
    "\n",
    "def cal_euclidean(a, b):\n",
    "    sq = np.square(a - b)\n",
    "    sum_sq = np.sum(sq)\n",
    "    distance = np.sqrt(sum_sq)\n",
    "    return distance\n",
    "\n",
    "def cal_manhattan(a, b):\n",
    "    a = np.abs(a - b)\n",
    "    distance = np.sum(a)\n",
    "    return distance\n",
    "\n",
    "def cal_cosine(a, b):\n",
    "    n1 = np.dot(a, b)\n",
    "    a_1 = np.sqrt(np.sum(np.square(a)))\n",
    "    b_1 = np.sqrt(np.sum(np.square(b)))\n",
    "    distance = 1.0 - (n1 / (a_1 * b_1))\n",
    "    return distance\n",
    "\n",
    "a = np.random.randint(-10, 10, size=10)\n",
    "b = np.random.randint(-10, 10, size=10)\n",
    "print(f'a = {a}')\n",
    "print(f'b = {b}')\n",
    "print(cal_euclidean(a, b))\n",
    "print(cal_manhattan(a, b))\n",
    "print(cal_cosine(a, b))"
   ]
  },
  {
   "cell_type": "code",
   "execution_count": 5,
   "id": "83a5dbf1",
   "metadata": {},
   "outputs": [
    {
     "name": "stdout",
     "output_type": "stream",
     "text": [
      "Ответ 5.1\n",
      "1.0 0.0\n",
      "[0.86881803 0.76797277 0.34134006 0.74970983 1.         0.18612413\n",
      " 0.18428594 0.06571965 0.56038012 0.42243316 0.63986109 0.65378894\n",
      " 0.48026297 0.55485946 0.87572404 0.40124188 0.10618718 0.47635677\n",
      " 0.22248874 0.55945218 0.66552848 0.28479646 0.98154397 0.90278037\n",
      " 0.01377548 0.20656747 0.98985218 0.0538009  0.2657522  0.97082056\n",
      " 0.28328242 0.85256839 0.18200676 0.10436367 0.56191286 0.56210318\n",
      " 0.61882491 0.72317169 0.74341043 0.91239486 0.24347822 0.24718112\n",
      " 0.94563304 0.08827305 0.13492736 0.72019316 0.54683014 0.06346093\n",
      " 0.59592327 0.11479393 0.96486678 0.67543031 0.16116987 0.14104057\n",
      " 0.74214164 0.43561848 0.29079259 0.07284867 0.27400832 0.04769957\n",
      " 0.34399514 0.52398032 0.99063714 0.01503915 0.59957545 0.31319028\n",
      " 0.39621927 0.31078976 0.78656626 0.42011714 0.60095681 0.51190499\n",
      " 0.8763663  0.79345081 0.63059211 0.36217193 0.32904025 0.21164144\n",
      " 0.86566702 0.71321016 0.44982964 0.14868507 0.18393402 0.84420633\n",
      " 0.9189797  0.71204005 0.33638789 0.80100529 0.38948194 0.48992796\n",
      " 0.01442678 0.         0.14096989 0.48581096 0.20950482 0.71912355\n",
      " 0.21091868 0.31504319 0.84031355 0.84131854]\n",
      "\n",
      "Ответ 5.2\n",
      "Shape:  (5, 6)\n",
      "Array\n",
      "[[49 28 16 43 31 46]\n",
      " [39 28 46  1 12 41]\n",
      " [28 37 41 24 24 14]\n",
      " [48 48  7 24  5 35]\n",
      " [39 28 15 39 34 32]]\n",
      "[49 39 28 48 39]\n",
      "\n",
      "Ответ 5.3\n",
      "array :\n",
      "[[4 5 5]\n",
      " [5 5 4]\n",
      " [4 4 5]\n",
      " [4 5 4]\n",
      " [5 4 5]\n",
      " [4 5 4]\n",
      " [5 4 5]\n",
      " [5 4 5]\n",
      " [4 5 5]\n",
      " [5 4 4]]\n",
      "unique_rows :\n",
      "[[4 4 5]\n",
      " [4 5 4]\n",
      " [4 5 5]\n",
      " [5 4 4]\n",
      " [5 4 5]\n",
      " [5 5 4]]\n"
     ]
    }
   ],
   "source": [
    "import numpy as np\n",
    "\n",
    "# 5.1\n",
    "my_array = np.random.rand(100)\n",
    "my_array[my_array.argmax()] = 1\n",
    "my_array[my_array.argmin()] = 0\n",
    "\n",
    "print('Ответ 5.1')\n",
    "print(np.max(my_array), np.min(my_array))\n",
    "print(my_array)\n",
    "\n",
    "# 5.2\n",
    "my_array = np.random.randint(0, 51, (5, 6))\n",
    "selected_column = my_array[:, np.argmax(my_array.max(axis=0))]\n",
    "print()\n",
    "print('Ответ 5.2')\n",
    "print('Shape: ',my_array.shape)\n",
    "print('Array')\n",
    "print(my_array)\n",
    "print(selected_column)\n",
    "\n",
    "# 5.3\n",
    "\n",
    "def get_unique_rows(my_array):\n",
    "    X_unique = np.unique(my_array, axis=0)\n",
    "    print(X_unique)\n",
    "\n",
    "my_array = np.random.randint(4, 6, size=(10,3))\n",
    "print()\n",
    "print('Ответ 5.3')\n",
    "print('array :')\n",
    "print(my_array)\n",
    "print('unique_rows :')\n",
    "get_unique_rows(my_array)"
   ]
  },
  {
   "cell_type": "code",
   "execution_count": null,
   "id": "e369e1c0",
   "metadata": {},
   "outputs": [],
   "source": []
  }
 ],
 "metadata": {
  "kernelspec": {
   "display_name": "Python 3 (ipykernel)",
   "language": "python",
   "name": "python3"
  },
  "language_info": {
   "codemirror_mode": {
    "name": "ipython",
    "version": 3
   },
   "file_extension": ".py",
   "mimetype": "text/x-python",
   "name": "python",
   "nbconvert_exporter": "python",
   "pygments_lexer": "ipython3",
   "version": "3.9.13"
  }
 },
 "nbformat": 4,
 "nbformat_minor": 5
}
